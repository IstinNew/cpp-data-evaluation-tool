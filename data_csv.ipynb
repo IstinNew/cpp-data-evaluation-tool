{
  "nbformat": 4,
  "nbformat_minor": 0,
  "metadata": {
    "colab": {
      "provenance": []
    },
    "kernelspec": {
      "name": "python3",
      "display_name": "Python 3"
    },
    "language_info": {
      "name": "python"
    }
  },
  "cells": [
    {
      "cell_type": "markdown",
      "source": [
        "# Welcome to the Basic Data Evaluation Tool in C++\n",
        "\n",
        "This Google Colab notebook showcases a simple yet powerful C++ program designed to read data from a CSV file, perform basic statistical analysis (mean, median, mode), and output the results."
      ],
      "metadata": {
        "id": "Qk_Xy0wYxWK7"
      }
    },
    {
      "cell_type": "markdown",
      "source": [
        "## Features:\n",
        "\n",
        "Read Data from CSV: Seamlessly reads numerical data from a CSV file.\n",
        "\n",
        "Statistical Analysis: Calculates mean, median, and mode to provide insights into your data.\n",
        "\n",
        "User-Friendly Output: Outputs results in a clear and understandable format."
      ],
      "metadata": {
        "id": "8_qwwZ0wxgvF"
      }
    },
    {
      "cell_type": "code",
      "execution_count": 1,
      "metadata": {
        "colab": {
          "base_uri": "https://localhost:8080/"
        },
        "id": "mJYjDI4txAgt",
        "outputId": "457769f7-24dd-4544-ce54-9833c35a65db"
      },
      "outputs": [
        {
          "output_type": "stream",
          "name": "stdout",
          "text": [
            "CSV file 'data.csv' created successfully!\n"
          ]
        }
      ],
      "source": [
        "import csv\n",
        "\n",
        "# Define the data to be written to the CSV file\n",
        "data = [\n",
        "    [12.5, 15.3, 14.6, 19.1, 18.3, 13.9, 16.5, 17.7, 15.6, 14.8],\n",
        "    [11.4, 12.8, 13.5, 14.1, 13.6, 14.7, 15.8, 16.2, 13.9, 14.3],\n",
        "    [15.3, 16.1, 14.9, 14.4, 15.7, 14.6, 16.8, 17.1, 14.5, 14.2]\n",
        "]\n",
        "\n",
        "# Flatten the list of lists\n",
        "flat_data = [item for sublist in data for item in sublist]\n",
        "\n",
        "# Specify the CSV file name\n",
        "csv_file = 'data.csv'\n",
        "\n",
        "# Write data to the CSV file\n",
        "with open(csv_file, 'w', newline='') as file:\n",
        "    writer = csv.writer(file)\n",
        "    writer.writerow(['Value'])  # Write the header\n",
        "    for value in flat_data:\n",
        "        writer.writerow([value])\n",
        "\n",
        "print(f\"CSV file '{csv_file}' created successfully!\")\n"
      ]
    }
  ]
}